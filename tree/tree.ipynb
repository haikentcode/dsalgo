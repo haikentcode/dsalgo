{
 "cells": [
  {
   "cell_type": "code",
   "execution_count": 22,
   "metadata": {},
   "outputs": [
    {
     "name": "stdout",
     "output_type": "stream",
     "text": [
      "Hello Tree\n"
     ]
    }
   ],
   "source": [
    "print(\"Hello Tree\")\n",
    "class Node:\n",
    "    def __init__(self,value=None,left=None,right=None):\n",
    "        self.value = value\n",
    "        self.left = left\n",
    "        self.right= right\n",
    "        \n",
    "class Tree:\n",
    "    def __init__(self,root=None):\n",
    "        self.root = root\n",
    "        \n",
    "    def insert(self,value):\n",
    "        newNode = Node(value)\n",
    "        if not self.root:\n",
    "            self.root = newNode\n",
    "        else:\n",
    "            # insert logic for basic tree ......\n",
    "            queue = [self.root]\n",
    "            while queue:\n",
    "                node = queue.pop(0)\n",
    "                if not node.left:\n",
    "                    node.left = newNode\n",
    "                    break\n",
    "                elif not node.right:\n",
    "                    node.right = newNode\n",
    "                else:\n",
    "                    queue.append(node.left)\n",
    "                    queue.append(node.right)\n",
    "                    \n",
    "    #Tree Traversals (Inorder, Preorder and Postorder)\n",
    "    def inorder(self,root=None):\n",
    "        if not root:\n",
    "            root = self.root\n",
    "        \n",
    "        def _inorder(node):\n",
    "            if node:\n",
    "                _inorder(node.left)\n",
    "                print(node.value)\n",
    "                _inorder(node.right)\n",
    "                \n",
    "        _inorder(root)\n",
    "        \n",
    "                            "
   ]
  },
  {
   "cell_type": "code",
   "execution_count": 25,
   "metadata": {},
   "outputs": [
    {
     "name": "stdout",
     "output_type": "stream",
     "text": [
      "4\n",
      "2\n",
      "1\n",
      "3\n"
     ]
    }
   ],
   "source": [
    "def treeTest():\n",
    "    tree = Tree()\n",
    "    tree.insert(1)\n",
    "    tree.insert(2)\n",
    "    tree.insert(3)\n",
    "    tree.insert(4)\n",
    "    tree.inorder()\n",
    "treeTest()"
   ]
  },
  {
   "cell_type": "code",
   "execution_count": null,
   "metadata": {},
   "outputs": [],
   "source": []
  }
 ],
 "metadata": {
  "kernelspec": {
   "display_name": "Python 3",
   "language": "python",
   "name": "python3"
  },
  "language_info": {
   "codemirror_mode": {
    "name": "ipython",
    "version": 3
   },
   "file_extension": ".py",
   "mimetype": "text/x-python",
   "name": "python",
   "nbconvert_exporter": "python",
   "pygments_lexer": "ipython3",
   "version": "3.7.0"
  }
 },
 "nbformat": 4,
 "nbformat_minor": 2
}
